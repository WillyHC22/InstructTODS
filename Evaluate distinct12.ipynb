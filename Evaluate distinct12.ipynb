{
 "cells": [
  {
   "cell_type": "markdown",
   "metadata": {},
   "source": [
    "# Evaluate distinct1 and 2 for the e2e generations\n",
    "\n",
    "We report degree of diversity by calculating the number of distinct unigrams and bigrams in generated responses. <br>\n",
    "The value is scaled by total number of generated tokens to avoid favoring long sentences (shown as distinct-1 and distinct-2 in Tables 2 and 3) [Li et al, 2016](https://aclanthology.org/N16-1014.pdf)\n",
    "\n",
    "Implementation is following [Xu et al, 2022](https://aclanthology.org/2022.dialdoc-1.10.pdf) ([GitHub](https://github.com/HLTCHKUST/KnowExpert/blob/main/evaluation.py))"
   ]
  },
  {
   "cell_type": "code",
   "execution_count": 1,
   "metadata": {},
   "outputs": [],
   "source": [
    "import pandas as pd"
   ]
  },
  {
   "cell_type": "code",
   "execution_count": 2,
   "metadata": {},
   "outputs": [],
   "source": [
    "import collections\n",
    "\n",
    "def get_ngrams(text, n):\n",
    "    \"\"\"\n",
    "    Returns all ngrams that are in the text.\n",
    "    Note: this function does NOT lowercase text. If you want to lowercase, you should\n",
    "    do so before calling this function.\n",
    "    Inputs:\n",
    "      text: string, space-separated\n",
    "      n: int\n",
    "    Returns:\n",
    "      list of strings (each is a ngram, space-separated)\n",
    "    \"\"\"\n",
    "    tokens = text.split()\n",
    "    return [\" \".join(tokens[i:i+n]) for i in range(len(tokens)-(n-1))]  # list of str\n",
    "\n",
    "\"\"\"\n",
    "Compute distinct metrics in corpus level\n",
    "\"\"\"\n",
    "def _distinct_corpus_n(samples, n):\n",
    "    \"\"\"\n",
    "    Returns (total number of unique ngrams in story_text) / (total number of ngrams in story_text, including duplicates).\n",
    "    Text is lowercased before counting ngrams.\n",
    "    Returns None if there are no ngrams\n",
    "    \"\"\"\n",
    "    # ngram_counter maps from each n-gram to how many times it appears\n",
    "    ngram_counter = collections.Counter()\n",
    "    for sample in samples:\n",
    "        ngrams = get_ngrams(sample.strip().lower(), n)\n",
    "        ngram_counter.update(ngrams)\n",
    "    if sum(ngram_counter.values()) == 0:\n",
    "        return None\n",
    "    return len(ngram_counter) / sum(ngram_counter.values())\n",
    "\n",
    "def distinct_corpus_1(samples):\n",
    "    return _distinct_corpus_n(samples, 1)\n",
    "\n",
    "def distinct_corpus_2(samples):\n",
    "    return _distinct_corpus_n(samples, 2)\n",
    "\n",
    "def distinct_corpus_3(samples):\n",
    "    return _distinct_corpus_n(samples, 3)\n",
    "\n",
    "def get_corpus_distinct(pred):\n",
    "    return (distinct_corpus_1(pred), distinct_corpus_2(pred), distinct_corpus_3(pred))"
   ]
  },
  {
   "cell_type": "code",
   "execution_count": 3,
   "metadata": {},
   "outputs": [],
   "source": [
    "import json\n",
    "\n",
    "f = open (\"/home/willy/instructod/src/e2e/results/delex_preds.json\", \"r\")\n",
    "data = json.loads(f.read())\n",
    "f.close()"
   ]
  },
  {
   "cell_type": "code",
   "execution_count": 4,
   "metadata": {},
   "outputs": [
    {
     "data": {
      "text/html": [
       "<div>\n",
       "<style scoped>\n",
       "    .dataframe tbody tr th:only-of-type {\n",
       "        vertical-align: middle;\n",
       "    }\n",
       "\n",
       "    .dataframe tbody tr th {\n",
       "        vertical-align: top;\n",
       "    }\n",
       "\n",
       "    .dataframe thead th {\n",
       "        text-align: right;\n",
       "    }\n",
       "</style>\n",
       "<table border=\"1\" class=\"dataframe\">\n",
       "  <thead>\n",
       "    <tr style=\"text-align: right;\">\n",
       "      <th></th>\n",
       "      <th>Type</th>\n",
       "      <th>D-1</th>\n",
       "      <th>D-2</th>\n",
       "    </tr>\n",
       "  </thead>\n",
       "  <tbody>\n",
       "    <tr>\n",
       "      <th>0</th>\n",
       "      <td>gold</td>\n",
       "      <td>0.094607</td>\n",
       "      <td>0.359940</td>\n",
       "    </tr>\n",
       "    <tr>\n",
       "      <th>1</th>\n",
       "      <td>rg</td>\n",
       "      <td>0.056161</td>\n",
       "      <td>0.202344</td>\n",
       "    </tr>\n",
       "    <tr>\n",
       "      <th>2</th>\n",
       "      <td>e2e</td>\n",
       "      <td>0.072650</td>\n",
       "      <td>0.263295</td>\n",
       "    </tr>\n",
       "    <tr>\n",
       "      <th>3</th>\n",
       "      <td>e2e_multi</td>\n",
       "      <td>0.053490</td>\n",
       "      <td>0.187482</td>\n",
       "    </tr>\n",
       "    <tr>\n",
       "      <th>4</th>\n",
       "      <td>pptod</td>\n",
       "      <td>0.015454</td>\n",
       "      <td>0.056267</td>\n",
       "    </tr>\n",
       "  </tbody>\n",
       "</table>\n",
       "</div>"
      ],
      "text/plain": [
       "        Type       D-1       D-2\n",
       "0       gold  0.094607  0.359940\n",
       "1         rg  0.056161  0.202344\n",
       "2        e2e  0.072650  0.263295\n",
       "3  e2e_multi  0.053490  0.187482\n",
       "4      pptod  0.015454  0.056267"
      ]
     },
     "execution_count": 4,
     "metadata": {},
     "output_type": "execute_result"
    }
   ],
   "source": [
    "keys, d1s, d2s = [], [], []\n",
    "for key in data.keys():\n",
    "    keys.append(key)\n",
    "    d1s.append(distinct_corpus_1(data[key]))\n",
    "    d2s.append(distinct_corpus_2(data[key]))\n",
    "    \n",
    "df_result = pd.DataFrame({'Type':keys,\n",
    "                          'D-1':d1s,\n",
    "                          'D-2':d2s})\n",
    "df_result"
   ]
  },
  {
   "cell_type": "code",
   "execution_count": null,
   "metadata": {},
   "outputs": [],
   "source": []
  }
 ],
 "metadata": {
  "kernelspec": {
   "display_name": "kgd",
   "language": "python",
   "name": "kgd"
  },
  "language_info": {
   "codemirror_mode": {
    "name": "ipython",
    "version": 3
   },
   "file_extension": ".py",
   "mimetype": "text/x-python",
   "name": "python",
   "nbconvert_exporter": "python",
   "pygments_lexer": "ipython3",
   "version": "3.10.4"
  }
 },
 "nbformat": 4,
 "nbformat_minor": 2
}
