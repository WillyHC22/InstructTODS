{
 "cells": [
  {
   "cell_type": "markdown",
   "metadata": {},
   "source": [
    "# Measure USL-H\n",
    "\n",
    "1. Download weight_dir from ```https://drive.google.com/file/d/1Kinwz0o473X_FVY6TmGAVRRGDXBo4CSO/view?usp=sharing``` into ```instructod/usl_dialogue_metric/usl_score/```\n",
    "2. Put the data in the ```filepath```"
   ]
  },
  {
   "cell_type": "code",
   "execution_count": 1,
   "metadata": {},
   "outputs": [],
   "source": [
    "import pandas as pd\n",
    "from scorer import Scorer"
   ]
  },
  {
   "cell_type": "code",
   "execution_count": null,
   "metadata": {},
   "outputs": [],
   "source": [
    "%%time\n",
    "class Argument():\n",
    "    def __init__(self):\n",
    "        self.weight_dir=\"dailydialog\"\n",
    "\n",
    "args = Argument()\n",
    "scorer = Scorer(args)"
   ]
  },
  {
   "cell_type": "code",
   "execution_count": null,
   "metadata": {},
   "outputs": [],
   "source": [
    "filepath = ''\n",
    "df = pd.read_csv(filepath, compression='gzip')\n",
    "df.fillna('', inplace=True)\n",
    "df = df.head(2)"
   ]
  },
  {
   "cell_type": "code",
   "execution_count": null,
   "metadata": {},
   "outputs": [],
   "source": [
    "contexts = df['dialogue_histories'].tolist()\n",
    "responses = df['preds'].tolist()"
   ]
  },
  {
   "cell_type": "code",
   "execution_count": null,
   "metadata": {},
   "outputs": [],
   "source": [
    "_, scores = scorer.get_scores(contexts, responses, normalize=True)\n",
    "df_scores = pd.DataFrame(scores)"
   ]
  },
  {
   "cell_type": "code",
   "execution_count": null,
   "metadata": {},
   "outputs": [],
   "source": []
  }
 ],
 "metadata": {
  "kernelspec": {
   "display_name": "uslh",
   "language": "python",
   "name": "uslh"
  },
  "language_info": {
   "codemirror_mode": {
    "name": "ipython",
    "version": 3
   },
   "file_extension": ".py",
   "mimetype": "text/x-python",
   "name": "python",
   "nbconvert_exporter": "python",
   "pygments_lexer": "ipython3",
   "version": "3.7.15"
  }
 },
 "nbformat": 4,
 "nbformat_minor": 2
}
