{
 "cells": [
  {
   "cell_type": "code",
   "execution_count": 14,
   "metadata": {
    "tags": []
   },
   "outputs": [],
   "source": [
    "import os\n",
    "import json\n",
    "import openai\n",
    "import pandas as pd\n",
    "from transformers.models.t5.tokenization_t5_fast import T5TokenizerFast"
   ]
  },
  {
   "cell_type": "markdown",
   "metadata": {},
   "source": [
    "# SGD loader\n",
    "\n",
    "Loader to parse each user turn of the test set of SGD into:\n",
    "- dialogue history\n",
    "- gold belief state\n",
    "- gold response\n",
    "- domain of the given turn\n",
    "- domains of the dialogue\n",
    "\n",
    "Please see below __Viewing__ sections for more details\n",
    "\n",
    "Implementations are refering to [this repo](https://github.com/cuthalionn/Prompter/tree/main), especially in:\n",
    "- [read_SGD](https://github.com/cuthalionn/Prompter/blob/f240296c73a0429cf52c1268c7fd2139680370d6/src/prefix_data_loader.py#L78)\n",
    "- [download_sgd.sh](https://github.com/cuthalionn/Prompter/blob/main/download_sgd.sh)\n",
    "- [T5 tokenizer used in the repo](https://github.com/cuthalionn/Prompter/blob/main/src/config.py)\n",
    "\n",
    "__Run download_sgd.sh first, before running this notebook__"
   ]
  },
  {
   "cell_type": "code",
   "execution_count": 1,
   "metadata": {},
   "outputs": [
    {
     "name": "stdout",
     "output_type": "stream",
     "text": [
      "mkdir: cannot create directory ‘data’: File exists\n",
      "fatal: destination path 'dstc8-schema-guided-dialogue' already exists and is not an empty directory.\n"
     ]
    }
   ],
   "source": [
    "!bash download_sgd.sh"
   ]
  },
  {
   "cell_type": "code",
   "execution_count": 13,
   "metadata": {
    "tags": []
   },
   "outputs": [],
   "source": [
    "def completion(model_args, prompt):\n",
    "    if \"gpt-3.5-turbo\" in model_args.model_name_or_path or \"gpt-4\" in model_args.model_name_or_path:\n",
    "        completion = openai.ChatCompletion.create(\n",
    "            model=model_args.model_name_or_path.replace(\"openai/\", \"\"),\n",
    "            messages=[\n",
    "                {\"role\": \"user\", \"content\": prompt}\n",
    "            ],\n",
    "            temperature=0\n",
    "        )\n",
    "        response = completion.choices[0].message.content.strip()\n",
    "    else:\n",
    "        completion = openai.Completion.create(\n",
    "            model=model_args.model_name_or_path.replace(\"openai/\", \"\"),\n",
    "            prompt=prompt,\n",
    "        )\n",
    "        response = completion.choices[0].text.strip()\n",
    "    return response"
   ]
  },
  {
   "cell_type": "markdown",
   "metadata": {},
   "source": [
    "### Helper functions"
   ]
  },
  {
   "cell_type": "code",
   "execution_count": 2,
   "metadata": {
    "tags": []
   },
   "outputs": [],
   "source": [
    "def adjust_sgd_questions(schema):\n",
    "    if \"Hotels_2\" in schema:\n",
    "        schema[\"Hotels_2\"][\"where_to\"] = (\"which city are user planning to stay in?\", schema[\"Hotels_2\"][\"where_to\"][1])\n",
    "        schema[\"Hotels_2\"][\"has_laundry_service\"] = (\"whether the house has laundry service?\", schema[\"Hotels_2\"][\"has_laundry_service\"][1])\n",
    "    if \"Hotels_4\" in schema:\n",
    "        schema[\"Hotels_4\"][\"location\"] = (\"what is the city or town where the hotel is located?\", schema[\"Hotels_4\"][\"location\"][1])\n",
    "        schema[\"Hotels_4\"][\"star_rating\"] = (\"what is the star rating of the hotel?\", schema[\"Hotels_4\"][\"star_rating\"][1])\n",
    "        schema[\"Hotels_4\"][\"place_name\"] = (\"what is the name of the hotel?\", schema[\"Hotels_4\"][\"place_name\"][1])\n",
    "    if \"Media_3\" in schema:    \n",
    "        schema[\"Media_3\"][\"genre\"] = (\"what type of the movie does user prefer?\", schema[\"Media_3\"][\"genre\"][1])\n",
    "        schema[\"Media_3\"][\"starring\"] = (\"who is the actor in this movie?\", schema[\"Media_3\"][\"starring\"][1])\n",
    "    if \"Services_4\" in schema:\n",
    "        schema[\"Services_4\"][\"city\"] = (\"what is the city or area where user wants to search for a therapist?\", schema[\"Services_4\"][\"city\"][1])\n",
    "    if \"Music_3\" in schema:\n",
    "        schema[\"Music_3\"][\"artist\"] = (\"what is the name of the artist?\", schema[\"Music_3\"][\"artist\"][1])\n",
    "        schema[\"Music_3\"][\"album\"] = (\"what is the album of the song?\", schema[\"Music_3\"][\"album\"][1])\n",
    "    return schema\n",
    "\n",
    "# preprocess SGD\n",
    "def read_SGD(args, path_name, tokenizer, dataset=None):\n",
    "    choice_token = \" <extra_id_0> \"\n",
    "    # read test set\n",
    "    all_data = []\n",
    "    # read from original data\n",
    "    for filename in os.listdir(os.path.join(path_name,dataset)):\n",
    "        if filename.startswith(\"dialogues_\"):\n",
    "            with open(os.path.join(path_name,dataset,filename)) as f:\n",
    "                data = json.load(f)\n",
    "                all_data+=data\n",
    "    global_tokens = []\n",
    "    if dataset == \"train\":\n",
    "        global_tokens = find_global_tokens_SGD(all_data)\n",
    "\n",
    "    with open(os.path.join(path_name,dataset,\"schema.json\")) as f:\n",
    "        data = json.load(f)\n",
    "        check_list = [\"what\", \"how\", \"whether\", \"which\"]\n",
    "        schema = {}\n",
    "        for service in data:\n",
    "            schema[service[\"service_name\"]] = {}\n",
    "            # collect required_slots and optional_slots\n",
    "            slot_collection = []\n",
    "            for intent in service[\"intents\"]:\n",
    "                for slot in intent[\"required_slots\"]:\n",
    "                    slot_collection.append(slot)\n",
    "                for slot in intent[\"optional_slots\"].keys():\n",
    "                    slot_collection.append(slot)\n",
    "\n",
    "            for slot in service[\"slots\"]:\n",
    "                description = slot[\"description\"].lower()\n",
    "                if any(c_l in description for c_l in check_list):\n",
    "                    description = f\"{description}?\"\n",
    "                else:\n",
    "                    description = f\"what is the {description}?\"\n",
    "\n",
    "                if slot[\"name\"] in slot_collection:\n",
    "                    schema[service[\"service_name\"]][slot[\"name\"]] = (description, slot[\"possible_values\"])\n",
    "\n",
    "    schema = adjust_sgd_questions(schema)\n",
    "\n",
    "\n",
    "    p_data = []\n",
    "    # read dialogues\n",
    "    for ID, dial in enumerate(all_data):\n",
    "        #print(ID)\n",
    "        dialog_history = \"\"\n",
    "\n",
    "        for idx, turn in enumerate(dial[\"turns\"]):\n",
    "            utterance = turn[\"utterance\"]\n",
    "            utterance = fix_number(utterance)\n",
    "            # User start the conversation\n",
    "            if turn[\"speaker\"] == \"USER\":\n",
    "                assert idx%2==0\n",
    "                turn_belief_list = generate_belief_list(turn)\n",
    "                \n",
    "                # accumulate dialogue utterances\n",
    "                #dialog_history +=  (\" System: \" + turn[\"system\"] + \" User: \" + turn[\"user\"])\n",
    "                dialog_history +=  (\" User: \" + utterance)\n",
    "\n",
    "\n",
    "                for fid, frame in enumerate(turn[\"frames\"]):\n",
    "                    # read slot values\n",
    "                    for k in schema[frame[\"service\"]]:\n",
    "                        value_text = frame[\"state\"][\"slot_values\"].get(k, ['none'])[0]\n",
    "                        output_text = value_text + f\" {tokenizer.eos_token}\"\n",
    "                    # for k, v in frame[\"state\"][\"slot_values\"].items():\n",
    "                        slot_text = k\n",
    "                        question = schema[frame[\"service\"]][k][0]\n",
    "                        data_detail = {\n",
    "                            \"ID\":dial[\"dialogue_id\"],\n",
    "                            \"domains\":dial[\"services\"],\n",
    "                            \"domain\":frame[\"service\"],\n",
    "                            \"turn_id\":idx,\n",
    "                            \"dialog_history\":dialog_history,\n",
    "                            \"output_text\":output_text,\n",
    "                            \"turn_belief\":turn_belief_list,\n",
    "                            \"slot_text\":slot_text,\n",
    "                            \"value_text\":value_text,\n",
    "                            \"slot_domain\": frame[\"service\"],\n",
    "                            \"slot_description\": question\n",
    "                            }\n",
    "                        p_data.append(data_detail)\n",
    "            # system turn\n",
    "            else:\n",
    "                assert idx%2==1\n",
    "                dialog_history +=  (\" Speaker: \" + utterance)\n",
    "\n",
    "\n",
    "    # with open(os.path.join(\"test\",f\"output.json\"), 'w') as fout:\n",
    "    #     json.dump(all_data, fout, indent=4)\n",
    "\n",
    "    return p_data,global_tokens\n",
    "\n",
    "def fix_number(text):\n",
    "    number_mapper = {\"one\": \"1\", \"two\": \"2\", \"three\":\"3\", \"four\":\"4\", \"five\":\"5\", \"six\":\"6\", \"seven\":\"7\", \"eight\":\"8\", \"nine\":\"9\", \"ten\":\"10\", \"eleven\":\"11\", \"twelve\":\"12\"}\n",
    "    for fromx, tox in number_mapper.items():\n",
    "        text = ' ' + text + ' '\n",
    "        text = text.replace(f\" {fromx} \", f\" {tox} \")[1:-1]\n",
    "    return text\n",
    "\n",
    "def generate_belief_list(turn):\n",
    "    belief_list = []\n",
    "    for frame in turn[\"frames\"]:\n",
    "        # read slot values\n",
    "        service = frame[\"service\"]\n",
    "        for slot_name,slot_value in frame[\"state\"][\"slot_values\"].items():\n",
    "            belief_list.append(\"-\".join([service,slot_name,slot_value[0]]))\n",
    "    return belief_list"
   ]
  },
  {
   "cell_type": "markdown",
   "metadata": {},
   "source": [
    "## Loading SGD"
   ]
  },
  {
   "cell_type": "code",
   "execution_count": 3,
   "metadata": {
    "tags": []
   },
   "outputs": [
    {
     "name": "stderr",
     "output_type": "stream",
     "text": [
      "Special tokens have been added in the vocabulary, make sure the associated word embeddings are fine-tuned or trained.\n"
     ]
    }
   ],
   "source": [
    "tokenizer = T5TokenizerFast.from_pretrained(\"t5-small\",\n",
    "                                            bos_token=\"[bos]\",\n",
    "                                            eos_token=\"[eos]\",\n",
    "                                            sep_token=\"[sep]\")"
   ]
  },
  {
   "cell_type": "code",
   "execution_count": 4,
   "metadata": {
    "tags": []
   },
   "outputs": [],
   "source": [
    "path = 'data/dstc8-schema-guided-dialogue'\n",
    "\n",
    "# data_train, global_tokens = read_SGD(args = None, path_name = path, tokenizer = tokenizer, dataset = \"train\")\n",
    "# data_dev,_ = read_SGD(args = None, path_name = path, tokenizer = tokenizer, dataset = \"dev\")\n",
    "data_test,_ = read_SGD(args = None, path_name = path, tokenizer = tokenizer, dataset = \"test\")"
   ]
  },
  {
   "cell_type": "code",
   "execution_count": 5,
   "metadata": {
    "tags": []
   },
   "outputs": [],
   "source": [
    "def get_descriptions(schema_file):\n",
    "    schemas = json.load(open(schema_file))\n",
    "    descriptions = {}\n",
    "    for service in schemas:\n",
    "        service_name = service[\"service_name\"]\n",
    "        for slot in service[\"slots\"]:\n",
    "            slot_name = slot[\"name\"]\n",
    "            slot_description = slot[\"description\"]\n",
    "            \n",
    "            descriptions[\"-\".join([service_name,slot_name])] = slot_description\n",
    "    return descriptions\n",
    "\n",
    "ALL_SLOTS = list(get_descriptions(os.path.join(path,\"test\",\"schema.json\")).keys())"
   ]
  },
  {
   "cell_type": "markdown",
   "metadata": {},
   "source": [
    "## Viewing\n",
    "\n",
    "Loader to parse each user turn of the test set of SGD into: <br>\n",
    "- [x] dialogue history (__dialog_history__)\n",
    "- [x] gold belief state (__turn_belief__)\n",
    "- [x] gold response (__output_text__)\n",
    "- [x] domain of the given turn (__domain__)\n",
    "- [x] domains of the dialogue (__domains__)"
   ]
  },
  {
   "cell_type": "code",
   "execution_count": 6,
   "metadata": {
    "tags": []
   },
   "outputs": [],
   "source": [
    "import pandas as pd"
   ]
  },
  {
   "cell_type": "code",
   "execution_count": 7,
   "metadata": {
    "tags": []
   },
   "outputs": [
    {
     "data": {
      "text/plain": [
       "{'ID': '27_00000',\n",
       " 'domains': ['Trains_1', 'Events_3', 'Travel_1', 'Hotels_2'],\n",
       " 'domain': 'Trains_1',\n",
       " 'turn_id': 2,\n",
       " 'dialog_history': ' User: I want to find a train. Speaker: What city do you want to leave from and when? Where are you going? User: I want to find tickets to Seattle, WA from Portland next Wednesday.',\n",
       " 'output_text': 'Portland [eos]',\n",
       " 'turn_belief': ['Trains_1-date_of_journey-next Wednesday',\n",
       "  'Trains_1-from-Portland',\n",
       "  'Trains_1-to-Seattle, WA'],\n",
       " 'slot_text': 'from',\n",
       " 'value_text': 'Portland',\n",
       " 'slot_domain': 'Trains_1',\n",
       " 'slot_description': 'what is the starting city for train journey?'}"
      ]
     },
     "execution_count": 7,
     "metadata": {},
     "output_type": "execute_result"
    }
   ],
   "source": [
    "data_test[7]"
   ]
  },
  {
   "cell_type": "code",
   "execution_count": 22,
   "metadata": {
    "tags": []
   },
   "outputs": [],
   "source": [
    "df = pd.DataFrame(data_test)"
   ]
  },
  {
   "cell_type": "code",
   "execution_count": 8,
   "metadata": {
    "tags": []
   },
   "outputs": [
    {
     "data": {
      "text/html": [
       "<div>\n",
       "<style scoped>\n",
       "    .dataframe tbody tr th:only-of-type {\n",
       "        vertical-align: middle;\n",
       "    }\n",
       "\n",
       "    .dataframe tbody tr th {\n",
       "        vertical-align: top;\n",
       "    }\n",
       "\n",
       "    .dataframe thead th {\n",
       "        text-align: right;\n",
       "    }\n",
       "</style>\n",
       "<table border=\"1\" class=\"dataframe\">\n",
       "  <thead>\n",
       "    <tr style=\"text-align: right;\">\n",
       "      <th></th>\n",
       "      <th>ID</th>\n",
       "      <th>domains</th>\n",
       "      <th>domain</th>\n",
       "      <th>turn_id</th>\n",
       "      <th>dialog_history</th>\n",
       "      <th>output_text</th>\n",
       "      <th>turn_belief</th>\n",
       "      <th>slot_text</th>\n",
       "      <th>value_text</th>\n",
       "      <th>slot_domain</th>\n",
       "      <th>slot_description</th>\n",
       "    </tr>\n",
       "  </thead>\n",
       "  <tbody>\n",
       "    <tr>\n",
       "      <th>5</th>\n",
       "      <td>27_00000</td>\n",
       "      <td>[Trains_1, Events_3, Travel_1, Hotels_2]</td>\n",
       "      <td>Trains_1</td>\n",
       "      <td>0</td>\n",
       "      <td>User: I want to find a train.</td>\n",
       "      <td>none [eos]</td>\n",
       "      <td>[]</td>\n",
       "      <td>class</td>\n",
       "      <td>none</td>\n",
       "      <td>Trains_1</td>\n",
       "      <td>what is the fare class for train reservation?</td>\n",
       "    </tr>\n",
       "    <tr>\n",
       "      <th>6</th>\n",
       "      <td>27_00000</td>\n",
       "      <td>[Trains_1, Events_3, Travel_1, Hotels_2]</td>\n",
       "      <td>Trains_1</td>\n",
       "      <td>0</td>\n",
       "      <td>User: I want to find a train.</td>\n",
       "      <td>none [eos]</td>\n",
       "      <td>[]</td>\n",
       "      <td>trip_protection</td>\n",
       "      <td>none</td>\n",
       "      <td>Trains_1</td>\n",
       "      <td>whether to add trip protection to reservation,...</td>\n",
       "    </tr>\n",
       "    <tr>\n",
       "      <th>7</th>\n",
       "      <td>27_00000</td>\n",
       "      <td>[Trains_1, Events_3, Travel_1, Hotels_2]</td>\n",
       "      <td>Trains_1</td>\n",
       "      <td>2</td>\n",
       "      <td>User: I want to find a train. Speaker: What c...</td>\n",
       "      <td>Portland [eos]</td>\n",
       "      <td>[Trains_1-date_of_journey-next Wednesday, Trai...</td>\n",
       "      <td>from</td>\n",
       "      <td>Portland</td>\n",
       "      <td>Trains_1</td>\n",
       "      <td>what is the starting city for train journey?</td>\n",
       "    </tr>\n",
       "    <tr>\n",
       "      <th>8</th>\n",
       "      <td>27_00000</td>\n",
       "      <td>[Trains_1, Events_3, Travel_1, Hotels_2]</td>\n",
       "      <td>Trains_1</td>\n",
       "      <td>2</td>\n",
       "      <td>User: I want to find a train. Speaker: What c...</td>\n",
       "      <td>Seattle, WA [eos]</td>\n",
       "      <td>[Trains_1-date_of_journey-next Wednesday, Trai...</td>\n",
       "      <td>to</td>\n",
       "      <td>Seattle, WA</td>\n",
       "      <td>Trains_1</td>\n",
       "      <td>what is the ending city for train journey?</td>\n",
       "    </tr>\n",
       "    <tr>\n",
       "      <th>9</th>\n",
       "      <td>27_00000</td>\n",
       "      <td>[Trains_1, Events_3, Travel_1, Hotels_2]</td>\n",
       "      <td>Trains_1</td>\n",
       "      <td>2</td>\n",
       "      <td>User: I want to find a train. Speaker: What c...</td>\n",
       "      <td>next Wednesday [eos]</td>\n",
       "      <td>[Trains_1-date_of_journey-next Wednesday, Trai...</td>\n",
       "      <td>date_of_journey</td>\n",
       "      <td>next Wednesday</td>\n",
       "      <td>Trains_1</td>\n",
       "      <td>what is the date of train journey?</td>\n",
       "    </tr>\n",
       "  </tbody>\n",
       "</table>\n",
       "</div>"
      ],
      "text/plain": [
       "         ID                                   domains    domain  turn_id  \\\n",
       "5  27_00000  [Trains_1, Events_3, Travel_1, Hotels_2]  Trains_1        0   \n",
       "6  27_00000  [Trains_1, Events_3, Travel_1, Hotels_2]  Trains_1        0   \n",
       "7  27_00000  [Trains_1, Events_3, Travel_1, Hotels_2]  Trains_1        2   \n",
       "8  27_00000  [Trains_1, Events_3, Travel_1, Hotels_2]  Trains_1        2   \n",
       "9  27_00000  [Trains_1, Events_3, Travel_1, Hotels_2]  Trains_1        2   \n",
       "\n",
       "                                      dialog_history           output_text  \\\n",
       "5                      User: I want to find a train.            none [eos]   \n",
       "6                      User: I want to find a train.            none [eos]   \n",
       "7   User: I want to find a train. Speaker: What c...        Portland [eos]   \n",
       "8   User: I want to find a train. Speaker: What c...     Seattle, WA [eos]   \n",
       "9   User: I want to find a train. Speaker: What c...  next Wednesday [eos]   \n",
       "\n",
       "                                         turn_belief        slot_text  \\\n",
       "5                                                 []            class   \n",
       "6                                                 []  trip_protection   \n",
       "7  [Trains_1-date_of_journey-next Wednesday, Trai...             from   \n",
       "8  [Trains_1-date_of_journey-next Wednesday, Trai...               to   \n",
       "9  [Trains_1-date_of_journey-next Wednesday, Trai...  date_of_journey   \n",
       "\n",
       "       value_text slot_domain  \\\n",
       "5            none    Trains_1   \n",
       "6            none    Trains_1   \n",
       "7        Portland    Trains_1   \n",
       "8     Seattle, WA    Trains_1   \n",
       "9  next Wednesday    Trains_1   \n",
       "\n",
       "                                    slot_description  \n",
       "5      what is the fare class for train reservation?  \n",
       "6  whether to add trip protection to reservation,...  \n",
       "7       what is the starting city for train journey?  \n",
       "8         what is the ending city for train journey?  \n",
       "9                 what is the date of train journey?  "
      ]
     },
     "execution_count": 8,
     "metadata": {},
     "output_type": "execute_result"
    }
   ],
   "source": [
    "pd.DataFrame(data_test).iloc[5:10]"
   ]
  },
  {
   "cell_type": "code",
   "execution_count": 9,
   "metadata": {
    "tags": []
   },
   "outputs": [
    {
     "data": {
      "text/plain": [
       "4201"
      ]
     },
     "execution_count": 9,
     "metadata": {},
     "output_type": "execute_result"
    }
   ],
   "source": [
    "len(pd.DataFrame(data_test)[\"ID\"].unique())"
   ]
  },
  {
   "cell_type": "code",
   "execution_count": 10,
   "metadata": {
    "tags": []
   },
   "outputs": [
    {
     "name": "stdout",
     "output_type": "stream",
     "text": [
      "context  User: I want to find a train.\n",
      "from none\n",
      "to none\n",
      "date_of_journey none\n",
      "journey_start_time none\n",
      "number_of_adults none\n",
      "class none\n",
      "trip_protection none\n",
      "context  User: I want to find a train. Speaker: What city do you want to leave from and when? Where are you going? User: I want to find tickets to Seattle, WA from Portland next Wednesday.\n",
      "from Portland\n",
      "to Seattle, WA\n",
      "date_of_journey next Wednesday\n",
      "journey_start_time none\n",
      "number_of_adults none\n",
      "class none\n",
      "trip_protection none\n",
      "context  User: I want to find a train. Speaker: What city do you want to leave from and when? Where are you going? User: I want to find tickets to Seattle, WA from Portland next Wednesday. Speaker: I found 9 trains. There is a train departing at 9:10 am for $61. User: Sounds great. I want to find something cool to do that day.\n",
      "event_type none\n",
      "event_name none\n",
      "date none\n",
      "number_of_tickets none\n",
      "city Seattle, WA\n",
      "from Portland\n"
     ]
    }
   ],
   "source": [
    "count = 0\n",
    "prev_id = \"\"\n",
    "for sample in data_test:\n",
    "    cur_id = sample[\"ID\"] + str(sample[\"turn_id\"])\n",
    "\n",
    "    if cur_id != prev_id:\n",
    "        print(\"context\", sample[\"dialog_history\"])\n",
    "        #reset\n",
    "    print(sample[\"slot_text\"], sample[\"value_text\"])\n",
    "\n",
    "    prev_id = cur_id\n",
    "\n",
    "    count += 1\n",
    "    if count == 20:\n",
    "        break"
   ]
  },
  {
   "cell_type": "code",
   "execution_count": 11,
   "metadata": {
    "tags": []
   },
   "outputs": [
    {
     "data": {
      "text/plain": [
       "{'ID': '27_00000',\n",
       " 'domains': ['Trains_1', 'Events_3', 'Travel_1', 'Hotels_2'],\n",
       " 'domain': 'Trains_1',\n",
       " 'turn_id': 0,\n",
       " 'dialog_history': ' User: I want to find a train.',\n",
       " 'output_text': 'none [eos]',\n",
       " 'turn_belief': [],\n",
       " 'slot_text': 'from',\n",
       " 'value_text': 'none',\n",
       " 'slot_domain': 'Trains_1',\n",
       " 'slot_description': 'what is the starting city for train journey?'}"
      ]
     },
     "execution_count": 11,
     "metadata": {},
     "output_type": "execute_result"
    }
   ],
   "source": [
    "data_test[0]"
   ]
  },
  {
   "cell_type": "code",
   "execution_count": 16,
   "metadata": {
    "tags": []
   },
   "outputs": [
    {
     "data": {
      "text/plain": [
       "267684"
      ]
     },
     "execution_count": 16,
     "metadata": {},
     "output_type": "execute_result"
    }
   ],
   "source": [
    "len(data_test)"
   ]
  },
  {
   "cell_type": "code",
   "execution_count": 23,
   "metadata": {
    "tags": []
   },
   "outputs": [
    {
     "data": {
      "text/plain": [
       "4201"
      ]
     },
     "execution_count": 23,
     "metadata": {},
     "output_type": "execute_result"
    }
   ],
   "source": [
    "df[\"ID\"].nunique()"
   ]
  },
  {
   "cell_type": "code",
   "execution_count": 27,
   "metadata": {
    "tags": []
   },
   "outputs": [
    {
     "data": {
      "text/plain": [
       "array(['from', 'to', 'date_of_journey', 'journey_start_time',\n",
       "       'number_of_adults', 'class', 'trip_protection', 'event_type',\n",
       "       'event_name', 'date', 'number_of_tickets', 'city', 'location',\n",
       "       'category', 'free_entry', 'good_for_kids', 'where_to',\n",
       "       'check_in_date', 'check_out_date', 'rating', 'has_laundry_service',\n",
       "       'show_type', 'theater_name', 'show_time', 'show_date', 'genre',\n",
       "       'movie_name', 'title', 'subtitle_language', 'starring',\n",
       "       'from_city', 'to_city', 'departure_date', 'departure_time',\n",
       "       'additional_luggage', 'num_passengers', 'number_of_rooms',\n",
       "       'stay_length', 'star_rating', 'place_name', 'smoking_allowed',\n",
       "       'cast', 'directed_by', 'restaurant_name', 'time',\n",
       "       'has_seating_outdoors', 'has_vegetarian_options',\n",
       "       'number_of_seats', 'price_range', 'new_alarm_time',\n",
       "       'new_alarm_name', 'car_type', 'pickup_location', 'start_date',\n",
       "       'pickup_time', 'end_date', 'add_insurance', 'contact_name',\n",
       "       'seating_class', 'origin_airport', 'destination_airport',\n",
       "       'return_date', 'airlines', 'track', 'artist', 'album', 'year',\n",
       "       'device', 'stylist_name', 'is_unisex', 'appointment_date',\n",
       "       'appointment_time', 'therapist_name', 'type', 'payment_method',\n",
       "       'amount', 'receiver', 'private_visibility', 'intent', 'area',\n",
       "       'property_name', 'has_garage', 'in_unit_laundry', 'visit_date',\n",
       "       'number_of_beds', 'number_of_baths', 'destination', 'ride_type'],\n",
       "      dtype=object)"
      ]
     },
     "execution_count": 27,
     "metadata": {},
     "output_type": "execute_result"
    }
   ],
   "source": [
    "df[\"slot_text\"].unique()"
   ]
  },
  {
   "cell_type": "code",
   "execution_count": 25,
   "metadata": {
    "tags": []
   },
   "outputs": [
    {
     "data": {
      "text/plain": [
       "21"
      ]
     },
     "execution_count": 25,
     "metadata": {},
     "output_type": "execute_result"
    }
   ],
   "source": [
    "df[\"domain\"].nunique()"
   ]
  }
 ],
 "metadata": {
  "kernelspec": {
   "display_name": "Python 3 (ipykernel)",
   "language": "python",
   "name": "python3"
  },
  "language_info": {
   "codemirror_mode": {
    "name": "ipython",
    "version": 3
   },
   "file_extension": ".py",
   "mimetype": "text/x-python",
   "name": "python",
   "nbconvert_exporter": "python",
   "pygments_lexer": "ipython3",
   "version": "3.9.16"
  }
 },
 "nbformat": 4,
 "nbformat_minor": 4
}
